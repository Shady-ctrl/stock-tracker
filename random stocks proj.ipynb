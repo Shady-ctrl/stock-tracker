{
 "cells": [
  {
   "cell_type": "code",
   "execution_count": 2,
   "metadata": {},
   "outputs": [
    {
     "data": {
      "image/png": "[encoded data removed]",
      "text/plain": [
       "<Figure size 432x288 with 1 Axes>"
      ]
     },
     "metadata": {
      "needs_background": "light"
     },
     "output_type": "display_data"
    }
   ],
   "source": [
    "import datetime as dt\n",
    "import pandas_datareader as pd\n",
    "import matplotlib.pyplot as plt\n",
    "\n",
    "year = dt.datetime.now().year\n",
    "month = dt.datetime.now().month\n",
    "day = dt.datetime.now().day - 1\n",
    "\n",
    "start = dt.datetime (2010, 1, 1)\n",
    "end = dt.datetime (year, month, day)\n",
    "\n",
    "st1 = pd.DataReader ('AAPL', 'yahoo', start, end)\n",
    "st2 = pd.DataReader ('TSLA', 'yahoo', start, end)\n",
    "\n",
    "plt.plot(st1['Adj Close'], 'k')\n",
    "plt.xlabel ('data')\n",
    "plt.ylabel ('price')\n",
    "plt.plot(st2['Adj Close'], 'r')\n",
    "plt.show ()"
   ]
  },
  {
   "cell_type": "code",
   "execution_count": 3,
   "metadata": {},
   "outputs": [
    {
     "name": "stdout",
     "output_type": "stream",
     "text": [
      "                  High         Low        Open       Close      Volume  \\\n",
      "Date                                                                     \n",
      "2020-08-18  464.000000  456.029999  457.410004  462.250000  26408400.0   \n",
      "2020-08-19  468.649994  462.440002  463.929993  462.829987  36384500.0   \n",
      "2020-08-20  473.570007  462.929993  463.000000  473.100006  31726800.0   \n",
      "2020-08-21  499.470001  477.000000  477.049988  497.480011  84513700.0   \n",
      "2020-08-24  515.140015  495.750000  514.789978  503.429993  86326400.0   \n",
      "\n",
      "             Adj Close  \n",
      "Date                    \n",
      "2020-08-18  462.250000  \n",
      "2020-08-19  462.829987  \n",
      "2020-08-20  473.100006  \n",
      "2020-08-21  497.480011  \n",
      "2020-08-24  503.429993  \n",
      "                   High          Low         Open        Close    Volume  \\\n",
      "Date                                                                       \n",
      "2020-08-18  1923.900024  1845.109985  1898.989990  1887.089966  16474500   \n",
      "2020-08-19  1911.000000  1841.209961  1865.000000  1878.530029  12205300   \n",
      "2020-08-20  2021.989990  1857.060059  1860.680054  2001.829956  20611800   \n",
      "2020-08-21  2095.489990  2025.050049  2044.760010  2049.979980  21489600   \n",
      "2020-08-24  2129.000000  1927.520020  2126.280029  2014.199951  20017000   \n",
      "\n",
      "              Adj Close  \n",
      "Date                     \n",
      "2020-08-18  1887.089966  \n",
      "2020-08-19  1878.530029  \n",
      "2020-08-20  2001.829956  \n",
      "2020-08-21  2049.979980  \n",
      "2020-08-24  2014.199951  \n"
     ]
    }
   ],
   "source": [
    "import datetime as dt\n",
    "import pandas_datareader as pd\n",
    "import matplotlib.pyplot as plt\n",
    "\n",
    "year = dt.datetime.now().year\n",
    "month = dt.datetime.now().month\n",
    "day = dt.datetime.now().day - 1\n",
    "\n",
    "start = dt.datetime (2010, 1, 1)\n",
    "end = dt.datetime (year, month, day)\n",
    "\n",
    "st1 = pd.DataReader ('AAPL', 'yahoo', start, end)\n",
    "st2 = pd.DataReader ('TSLA', 'yahoo', start, end)\n",
    "\n",
    "print (st1.tail(5))\n",
    "print (st2.tail(5))"
   ]
  },
  {
   "cell_type": "code",
   "execution_count": null,
   "metadata": {},
   "outputs": [],
   "source": []
  }
 ],
 "metadata": {
  "kernelspec": {
   "display_name": "Python 3",
   "language": "python",
   "name": "python3"
  },
  "language_info": {
   "codemirror_mode": {
    "name": "ipython",
    "version": 3
   },
   "file_extension": ".py",
   "mimetype": "text/x-python",
   "name": "python",
   "nbconvert_exporter": "python",
   "pygments_lexer": "ipython3",
   "version": "3.10.9"
  }
 },
 "nbformat": 4,
 "nbformat_minor": 4
}
